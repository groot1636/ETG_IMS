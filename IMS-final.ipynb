{
 "cells": [
  {
   "cell_type": "code",
   "execution_count": 12,
   "metadata": {},
   "outputs": [],
   "source": [
    "import json\n",
    "import time"
   ]
  },
  {
   "cell_type": "code",
   "execution_count": 13,
   "metadata": {},
   "outputs": [],
   "source": [
    "fd = open(\"invent.json\",'r')\n",
    "r = fd.read()\n",
    "fd.close()\n",
    "db = json.loads(r)"
   ]
  },
  {
   "cell_type": "code",
   "execution_count": 14,
   "metadata": {},
   "outputs": [
    {
     "name": "stdout",
     "output_type": "stream",
     "text": [
      "*********************************************************************************************************\n",
      "                                               MENU\n",
      "*********************************************************************************************************\n",
      "2101 {'Name': 'Fanta', 'Category': 'Drinks', 'Unit_Price': 45, 'Quantity': 123, 'wt': '1.25l'}\n",
      "2102 {'Name': 'Cocacola', 'Category': 'Drinks', 'Unit_Price': 45, 'Quantity': 110, 'wt': '1.25l'}\n",
      "2103 {'Name': 'Sprite', 'Category': 'Drinks', 'Unit_Price': 45, 'Quantity': 80, 'wt': '1.25l'}\n",
      "2104 {'Name': 'Lahori Jeera', 'Category': 'Drinks', 'Unit_Price': 15, 'Quantity': 180, 'wt': '0.25l'}\n",
      "2105 {'Name': 'Fox Nuts', 'Category': 'Seeds', 'Unit_Price': 70, 'Quantity': 90, 'wt': '250gm'}\n",
      "2106 {'Name': 'Pumpkin Seeds', 'Category': 'Seeds', 'Unit_Price': 125, 'Quantity': 79, 'wt': '250gm'}\n",
      "2107 {'Name': 'Flax Seeds', 'Category': 'Seeds', 'Unit_Price': 195, 'Quantity': 96, 'wt': '250gm'}\n",
      "2108 {'Name': 'Chia Seeds', 'Category': 'Seeds', 'Unit_Price': 275, 'Quantity': 118, 'wt': '250gm'}\n",
      "2109 {'Name': 'Amul Dark Chocolate', 'Category': 'Chocolates', 'Unit_Price': 85, 'Quantity': 70, 'wt': '250gm'}\n",
      "2110 {'Name': 'Dairy Milk Silk', 'Category': 'Chocolates', 'Unit_Price': 45, 'Quantity': 110, 'wt': '250gm'}\n",
      "2111 {'Name': 'Cheese-Cake', 'Category': 'Confectionery', 'Unit_Price': 545, 'Quantity': 30, 'wt': '500gm'}\n",
      "2112 {'Name': 'Red-Velvet Cake', 'Category': 'Confectionery', 'Unit_Price': 345, 'Quantity': 10, 'wt': '500gm'}\n",
      "2113 {'Name': 'Blue-Berry Cake', 'Category': 'Confectionery', 'Unit_Price': 645, 'Quantity': 25, 'wt': '500gm'}\n",
      "2114 {'Name': 'Choco-Lava Cake', 'Category': 'Confectionery', 'Unit_Price': 645, 'Quantity': 20, 'wt': '500gm'}\n",
      "2115 {'Name': 'White Forest Cake', 'Category': 'Confectionery', 'Unit_Price': 345, 'Quantity': 20, 'wt': '500gm'}\n",
      "2116 {'Name': 'Black-Forest Cake', 'Category': 'Confectionery', 'Unit_Price': 345, 'Quantity': 30, 'wt': '500gm'}\n",
      "2117 {'Name': 'Muffins', 'Category': 'Confectionery', 'Unit_Price': 45, 'Quantity': 30, 'wt': '200gm'}\n",
      "2118 {'Name': 'Kit-Kat', 'Category': 'Chocolate', 'Unit_Price': 15, 'Quantity': 80, 'wt': '50gm'}\n",
      "2119 {'Name': 'Almonds', 'Category': 'Dry Fruits', 'Unit_Price': 645, 'Quantity': 138, 'wt': '500gm'}\n",
      "2120 {'Name': 'Walnut', 'Category': 'Dry Fruits', 'Unit_Price': 675, 'Quantity': 158, 'wt': '500gm'}\n",
      "2121 {'Name': 'Pistachio', 'Category': 'Dry Fruits', 'Unit_Price': 775, 'Quantity': 190, 'wt': '500gm'}\n",
      "2122 {'Name': 'Raisin', 'Category': 'Dry Fruits', 'Unit_Price': 575, 'Quantity': 108, 'wt': '500gm'}\n",
      "2123 {'Name': 'Kimia-Dates', 'Category': 'Dry Fruits', 'Unit_Price': 975, 'Quantity': 89, 'wt': '500gm'}\n",
      "2124 {'Name': 'Dettol Liquid', 'Category': 'Hygiene', 'Unit_Price': 75, 'Quantity': 98, 'wt': '50gm'}\n",
      "2125 {'Name': 'Dettol Hand-Wash', 'Category': 'Hygiene', 'Unit_Price': 75, 'Quantity': 98, 'wt': '100gm'}\n",
      "2126 {'Name': 'Dettol Sanitizer', 'Category': 'Hygiene', 'Unit_Price': 55, 'Quantity': 28, 'wt': '50gm'}\n",
      "2127 {'Name': 'Dettol Soap', 'Category': 'Hygiene', 'Unit_Price': 25, 'Quantity': 108, 'wt': '50gm'}\n",
      "2128 {'Name': 'Dove Soap', 'Category': 'Hygiene', 'Unit_Price': 35, 'Quantity': '68', 'wt': '50gm'}\n",
      "2129 {'Name': 'Lifebuoy Soap', 'Category': 'Hygiene', 'Unit_Price': 25, 'Quantity': 78, 'wt': '50gm'}\n",
      "2130 {'Name': 'Pears Soap', 'Category': 'Hygiene', 'Unit_Price': 75, 'Quantity': 88, 'wt': '50gm'}\n",
      "*********************************************************************************************************\n",
      "*********************************************************************************************************\n"
     ]
    }
   ],
   "source": [
    "print(\"*********************************************************************************************************\")\n",
    "print(\"                                               MENU\")\n",
    "print(\"*********************************************************************************************************\")\n",
    "for i in db.keys():\n",
    "    print(i,db[i])\n",
    "print(\"*********************************************************************************************************\")\n",
    "print(\"*********************************************************************************************************\")"
   ]
  },
  {
   "cell_type": "code",
   "execution_count": 17,
   "metadata": {},
   "outputs": [
    {
     "name": "stdout",
     "output_type": "stream",
     "text": [
      "Enter product ID: 2101\n",
      "Enter quantity: 5\n"
     ]
    }
   ],
   "source": [
    "ch = 'Y'\n",
    "user_prod, user_quant = input(\"Enter product ID: \"), int(input(\"Enter quantity: \"))\n",
    "sales = {}"
   ]
  },
  {
   "cell_type": "code",
   "execution_count": 18,
   "metadata": {},
   "outputs": [
    {
     "name": "stdout",
     "output_type": "stream",
     "text": [
      "Product exists.\n",
      "************************************\n",
      "        Quantity exists\n",
      "************************************\n",
      "        Billing Info\n",
      "************************************\n",
      "Product ID  {'Name': 'Fanta', 'Category': 'Drinks', 'Unit_Price': 45, 'Quantity': 123, 'wt': '1.25l'}\n",
      "Name  Fanta\n",
      "Category  Drinks\n",
      "Weight   1.25l\n",
      "Unit_Price  45\n",
      "Total Cost  Rs 225\n",
      "Do you wish to continue buy other products?\n",
      "(Y|N)N\n",
      "************************************\n",
      "    Data Updated in Sales file\n",
      "************************************\n",
      "************************************\n",
      "    Data Updated in Product file\n",
      "************************************\n"
     ]
    }
   ],
   "source": [
    "while(ch == 'Y'):\n",
    "    if(user_prod in db.keys()):\n",
    "        print(\"Product exists.\")\n",
    "        if(user_quant <= db[user_prod]['Quantity']):\n",
    "            print(\"************************************\")\n",
    "            print(\"        Quantity exists\")\n",
    "            print(\"************************************\")\n",
    "            print(\"        Billing Info\")\n",
    "            print(\"************************************\")\n",
    "            print(\"Product ID \",db[user_prod])\n",
    "            print(\"Name \",db[user_prod]['Name'])\n",
    "            print(\"Category \", db[user_prod]['Category'])\n",
    "            print(\"Weight  \",db[user_prod]['wt'])\n",
    "            print(\"Unit_Price \",db[user_prod]['Unit_Price'])\n",
    "            tot_cost = db[user_prod]['Unit_Price'] * user_quant\n",
    "            print(\"Total Cost  Rs\",tot_cost)\n",
    "            \n",
    "            db[user_prod]['Quantity'] -= user_quant\n",
    "            \n",
    "            sales[str(len(sales)+1)] = {'Prod_id' : user_prod,                         \n",
    "                                  \"Purchase_Time\" :  time.ctime(), \n",
    "                                  'Billing Amount' : tot_cost, \n",
    "                                  'Quantity' : user_quant, \n",
    "                                  'Unit_Price' : db[user_prod]['Unit_Price'], \n",
    "                                  'Name' : db[user_prod]['Name']}\n",
    "\n",
    "        \n",
    "        else:\n",
    "            print(\"Sorry, the quantity you've asked is not available with us.\")\n",
    "            print(\"But we have {} {} in stock.\".format(db[user_prod]['Quantity'],db[user_prod]['Name']))\n",
    "            print(\"Do you wish to continue? \")\n",
    "            op = input(\"Y|N \")\n",
    "             \n",
    "            if(op == 'Y' ):\n",
    "                print(\"************************************\")\n",
    "                print(\"        Billing Info\")\n",
    "                print(\"************************************\")\n",
    "                print(\"Product ID \",db[user_prod])\n",
    "                print(\"Name \",db[user_prod]['Name'])\n",
    "                print(\"Category \", db[user_prod]['Category'])\n",
    "                print(\"Weight  \",db[user_prod]['wt'])\n",
    "                print(\"Unit_Price \",db[user_prod]['Unit_Price'])\n",
    "                tot_cost = db[user_prod]['Unit_Price'] * db[user_prod]['Quantity']\n",
    "                print(\"Total Cost  Rs\",tot_cost)\n",
    "            \n",
    "                db[user_prod]['Quantity'] = 0\n",
    "            \n",
    "                sales[str(len(sales)+1)] = {'Prod_id' : user_prod,                         \n",
    "                                  \"Purchase_Time\" :  time.ctime(), \n",
    "                                  'Billing Amount' : tot_cost, \n",
    "                                  'Quantity' : user_quant, \n",
    "                                  'Unit_Price' : db[user_prod]['Unit_Price'], \n",
    "                                  'Name' : db[user_prod]['Name']}\n",
    "                \n",
    "            else: \n",
    "                print(\"Thank you!\")\n",
    "        \n",
    "        print(\"Do you wish to continue buy other products?\")\n",
    "        ch = input(\"(Y|N)\")\n",
    "    else:\n",
    "        print(\"Product does not exist\")\n",
    "        print(\"You've entered invalid Product Id.\")\n",
    "        break\n",
    "\n",
    "s = json.dumps(sales)\n",
    "fd = open(\"sales.json\",'w')\n",
    "fd.write(s)\n",
    "fd.close()\n",
    "print(\"************************************\")\n",
    "print(\"    Data Updated in Sales file\")\n",
    "print(\"************************************\")\n",
    "w = json.dumps(db)\n",
    "fd = open(\"invent.json\",'w')\n",
    "fd.write(w)\n",
    "fd.close()\n",
    "print(\"************************************\")\n",
    "print(\"    Data Updated in Product file\")\n",
    "print(\"************************************\")   \n",
    "        \n",
    "            "
   ]
  },
  {
   "cell_type": "code",
   "execution_count": null,
   "metadata": {},
   "outputs": [],
   "source": []
  }
 ],
 "metadata": {
  "kernelspec": {
   "display_name": "Python 3",
   "language": "python",
   "name": "python3"
  },
  "language_info": {
   "codemirror_mode": {
    "name": "ipython",
    "version": 3
   },
   "file_extension": ".py",
   "mimetype": "text/x-python",
   "name": "python",
   "nbconvert_exporter": "python",
   "pygments_lexer": "ipython3",
   "version": "3.8.5"
  }
 },
 "nbformat": 4,
 "nbformat_minor": 4
}
